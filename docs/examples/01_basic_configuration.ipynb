{
 "cells": [
  {
   "cell_type": "markdown",
   "metadata": {},
   "source": [
    "# Configuring Pydantic models in Python\n",
    "\n",
    "This example notebook outlines the steps necessary to generate, save, and load configurations for the `match_template` program through Python object and `yaml` files.\n",
    "Here, we focus on *how* to create and modify these configurations rather than the underlying code for parsing these configurations and running the program.\n",
    "\n",
    "**Rationale for using YAML configurations**\n",
    "\n",
    "While the `Leopard-EM` package provides an object-oriented Python API for extending template matching into more complex workflows, it is useful to have a human-readable, easily editable, and shareable configuration file because:\n",
    "1. It increases reproducibility by keeping a record of exact parameters used for a particular run,\n",
    "2. It can be quickly modified during development, debugging, and testing without changing underlying code, and\n",
    "3. It can be replicated across large datasets (e.g. multiple images with similar configurations) for execution on distributed clusters.\n",
    "\n",
    "We find that storing configurations in a structured file format strikes a good balance between user-friendliness and programmatic control."
   ]
  },
  {
   "cell_type": "markdown",
   "metadata": {},
   "source": [
    "## Importing Necessary Classes and Functions\n",
    "\n",
    "We utilize [Pydantic](https://docs.pydantic.dev/latest/) to create Python objects that parse, validate, and serialize configurations.\n",
    "These objects (called Pydantic models) are laid out in a hierarchial structure with a single root \"manager\" model.\n",
    "Below we import all the configuration classes (along with other libraries) we will detail usage of in this notebook."
   ]
  },
  {
   "cell_type": "code",
   "execution_count": 1,
   "metadata": {},
   "outputs": [],
   "source": [
    "\"\"\"Leopard-EM config objects in Python.\"\"\"\n",
    "\n",
    "from pprint import pprint\n",
    "\n",
    "from leopard_em.pydantic_models.config import (\n",
    "    ArbitraryCurveFilterConfig,\n",
    "    BandpassFilterConfig,\n",
    "    ComputationalConfig,\n",
    "    DefocusSearchConfig,\n",
    "    OrientationSearchConfig,\n",
    "    PhaseRandomizationFilterConfig,\n",
    "    PreprocessingFilters,\n",
    "    WhiteningFilterConfig,\n",
    ")\n",
    "from leopard_em.pydantic_models.data_structures import OpticsGroup\n",
    "from leopard_em.pydantic_models.managers import MatchTemplateManager\n",
    "from leopard_em.pydantic_models.results import MatchTemplateResult"
   ]
  },
  {
   "cell_type": "markdown",
   "metadata": {},
   "source": [
    "## The **OpticsGroup** Model\n",
    "\n",
    "The `OpticsGroup` model is a container for microscope imaging parameters necessary for calculating filters (e.g. contrast transfer functions).\n",
    "We follow the fields that are defined in [RELION's](https://relion.readthedocs.io/en/latest/) optics group .star file, and the class has the following attributes:\n",
    "- `label`: A unique label for the optics group, usually contains some form of the micrograph name but can be any string.\n",
    "- `pixel_size`: Float value representing the pixel size of the image, in Angstroms.\n",
    "- `voltage`: The voltage of the microscope, in kV.\n",
    "- `spherical_aberration`: The spherical aberration of the microscope, in mm, with the default value of 2.7 mm.\n",
    "- `amplitude_contrast_ratio`: The amplitude contrast ratio (unitless) with the default value of 0.07.\n",
    "- `phase_shift`: Additional phase shift to apply across the CTF, in degrees, with the default value of 0.0.\n",
    "- `defocus_u`: Defocus of the micrograph along the major axis, in Angstroms.\n",
    "- `defocus_v`: Defocus of the micrograph along the minor axis, in Angstroms.\n",
    "- `astigmatism_angle`: Angle of the defocus astigmatism (relative to the x-axis), in degrees. The default value is 0.0.\n",
    "- `ctf_B_factor`: An additional b-factor to apply to the CTF, in Angstroms^2. The default value is 0.0.\n",
    "\n",
    "There are other unused fields in the class that are not detailed here.\n",
    "See the Pydantic model API documentation for more information."
   ]
  },
  {
   "cell_type": "markdown",
   "metadata": {},
   "source": [
    "### Creating an instance of the **OpticsGroup** model\n",
    "\n",
    "Below, we create an instance of the `OpticsGroup` model with some made-up but nevertheless realistic values."
   ]
  },
  {
   "cell_type": "code",
   "execution_count": 2,
   "metadata": {},
   "outputs": [],
   "source": [
    "my_optics_group = OpticsGroup(\n",
    "    label=\"my_optics_group\",\n",
    "    pixel_size=1.06,\n",
    "    voltage=300.0,\n",
    "    spherical_aberration=2.7,  # default value\n",
    "    amplitude_contrast_ratio=0.07,  # default value\n",
    "    phase_shift=0.0,  # default value\n",
    "    defocus_u=5200.0,\n",
    "    defocus_v=4950.0,\n",
    "    astigmatism_angle=25.0,\n",
    "    ctf_B_factor=60.0,\n",
    ")"
   ]
  },
  {
   "cell_type": "markdown",
   "metadata": {},
   "source": [
    "The Python variable `my_optics_group` is now an instance of the `OpticsGroup` model.\n",
    "Note that the model does do validation under-the-hood to ensure necessary fields are present and valid.\n",
    "Any invalid fields will raise a `ValidationError` when the model is created.\n",
    "Uncomment the following code block to see this in action."
   ]
  },
  {
   "cell_type": "code",
   "execution_count": 3,
   "metadata": {},
   "outputs": [],
   "source": [
    "# bad_optics_group = OpticsGroup(\n",
    "#     label=\"bad_optics_group\",\n",
    "#     pixel_size=-1.0,  # <--- Must be positive\n",
    "#     voltage=300.0,\n",
    "#     phase_shift=0.0,  # default value\n",
    "#     defocus_u=5200.0,\n",
    "#     defocus_v=4950.0,\n",
    "#     astigmatism_angle=25.0,\n",
    "# )"
   ]
  },
  {
   "cell_type": "markdown",
   "metadata": {},
   "source": [
    "### Serializing an instance of the **OpticsGroup** model\n",
    "\n",
    "Pydantic has built-in functionality, namely the `model_dump()`, for generating a dictionary of key, value pairs from the model attributes and their values.\n",
    "Below, we create a dictionary from the `my_optics_group` instance and print it out.\n",
    "Note that extra, unused fields are still included in the dictionary."
   ]
  },
  {
   "cell_type": "code",
   "execution_count": 4,
   "metadata": {},
   "outputs": [
    {
     "name": "stdout",
     "output_type": "stream",
     "text": [
      "{'amplitude_contrast_ratio': 0.07,\n",
      " 'astigmatism_angle': 25.0,\n",
      " 'beam_tilt_x': None,\n",
      " 'beam_tilt_y': None,\n",
      " 'chromatic_aberration': 0.0,\n",
      " 'ctf_B_factor': 60.0,\n",
      " 'defocus_u': 5200.0,\n",
      " 'defocus_v': 4950.0,\n",
      " 'even_zernike': None,\n",
      " 'label': 'my_optics_group',\n",
      " 'mtf_reference': None,\n",
      " 'mtf_values': None,\n",
      " 'odd_zernike': None,\n",
      " 'phase_shift': 0.0,\n",
      " 'pixel_size': 1.06,\n",
      " 'spherical_aberration': 2.7,\n",
      " 'voltage': 300.0,\n",
      " 'zernike_moments': None}\n"
     ]
    }
   ],
   "source": [
    "optics_dict = my_optics_group.model_dump()\n",
    "pprint(optics_dict)"
   ]
  },
  {
   "cell_type": "markdown",
   "metadata": {},
   "source": [
    "### Exporting configurations to a YAML file\n",
    "\n",
    "[YAML](https://yaml.org) files are nothing more than a bunch of key-value pairs in a human-readable format.\n",
    "Like [JSON](https://www.json.org), YAML has parser functions/libraries in most programming languages increasing their interoperability.\n",
    "We adopt the `.yaml` format (and actually the `.json` format too, but not detailed here) for our configuration files rather than less-common formats specific to a sub-field or program.\n",
    "\n",
    "The `OpticsGroup` model (and all the other Pydanic models discussed here) have a `to_yaml()` method that writes the model to a YAML file.\n",
    "Below, we first specify a path and then call the `to_yaml()` method on the `my_optics_group` instance to write the model to a file."
   ]
  },
  {
   "cell_type": "code",
   "execution_count": 5,
   "metadata": {},
   "outputs": [],
   "source": [
    "yaml_filepath = \"./optics_group_example.yaml\"\n",
    "my_optics_group.to_yaml(yaml_filepath)"
   ]
  },
  {
   "cell_type": "markdown",
   "metadata": {},
   "source": [
    "A new file called `optics_group_example.yaml` should now exist in the current working directory with the following contents:\n",
    "\n",
    "----\n",
    "\n",
    "```yaml\n",
    "amplitude_contrast_ratio: 0.07\n",
    "beam_tilt_x: null\n",
    "beam_tilt_y: null\n",
    "chromatic_aberration: 0.0\n",
    "ctf_B_factor: 60.0\n",
    "astigmatism_angle: 25.0\n",
    "defocus_u: 5200.0\n",
    "defocus_v: 4950.0\n",
    "even_zernike: null\n",
    "label: my_optics_group\n",
    "mtf_reference: null\n",
    "mtf_values: null\n",
    "odd_zernike: null\n",
    "phase_shift: 0.0\n",
    "pixel_size: 1.06\n",
    "spherical_aberration: 2.7\n",
    "voltage: 300.0\n",
    "zernike_moments: null\n",
    "```\n",
    "\n",
    "----"
   ]
  },
  {
   "cell_type": "markdown",
   "metadata": {},
   "source": [
    "### Importing configurations from a YAML file\n",
    "\n",
    "Each model also has the `from_yaml()` method which can be to instantiate the class from contents in a `.yaml` file.\n",
    "Below, we are creating a new instance of the `OpticsGroup` class from the `optics_group.yaml` file."
   ]
  },
  {
   "cell_type": "code",
   "execution_count": 6,
   "metadata": {},
   "outputs": [
    {
     "name": "stdout",
     "output_type": "stream",
     "text": [
      "OpticsGroup objects are equal.\n"
     ]
    }
   ],
   "source": [
    "new_optics_group = OpticsGroup.from_yaml(yaml_filepath)\n",
    "\n",
    "# Check if the two OpticsGroup objects are equal\n",
    "if new_optics_group == my_optics_group:\n",
    "    print(\"OpticsGroup objects are equal.\")\n",
    "else:\n",
    "    print(\"The two OpticsGroup are not equal!!!\")"
   ]
  },
  {
   "cell_type": "markdown",
   "metadata": {},
   "source": [
    "Now that we've covered the basics of creating, serializing, and deserializing the `OpticsGroup` model, we can move onto the next models without covering the (de)serialization and import/export steps in detail."
   ]
  },
  {
   "cell_type": "markdown",
   "metadata": {},
   "source": [
    "## The **OrientationSearchConfig** Model\n",
    "\n",
    "Two-dimensional template matching necessitates covering SO(3) orientation space to find the \"best\" orientation match for a particle.\n",
    "How points are sampled during the search process is handled by the `OrientationSearchConfig` model.\n",
    "This model effectively acts as an interface with the [torch-so3](https://github.com/teamtomo/torch-so3) package, which provides the underlying functionality for generating uniform grids on SO(3).\n",
    "\n",
    "The class has the following attributes:\n",
    " - `psi_step`: The psi step size (in units of degrees) with a default value of 1.5 degrees.\n",
    " - `theta_step`: The theta step size (in units of degrees) with a default value of 2.5 degrees.\n",
    " - `phi_min`: The minimum value for the $\\phi$ Euler angle (in degrees) with a default value of 0.0.\n",
    " - `phi_max`: The maximum value for the $\\phi$ Euler angle (in degrees) with a default value of 360.0.\n",
    " - `theta_min`: The minimum value for the $\\theta$ Euler angle (in degrees) with a default value of 0.0.\n",
    " - `theta_max`: The maximum value for the $\\theta$ Euler angle (in degrees) with a default value of 180.0.\n",
    " - `psi_min`: The minimum value for the $\\psi$ Euler angle (in degrees) with a default value of 0.0.\n",
    " - `psi_max`: The maximum value for the $\\psi$ Euler angle (in degrees) with a default value of 360.0.\n",
    " - `base_grid_method`: The method used to generate the base S2 grid. Allowed values are `\"uniform\"` and `\"healpix\"`. The default value is `\"uniform\"`.\n",
    " - `symmetry`: Specify the template symmetry to automatically restrict the angular search space. Default `\"C1\"`. Note, this is ignored if manual angular ranges are given.\n",
    "\n",
    "Note that the default min/max values set the search space to cover SO(3) for a particle with `\"C1\"` symmetry.\n"
   ]
  },
  {
   "cell_type": "markdown",
   "metadata": {},
   "source": [
    "Below, we create a new instance of the `OrientationSearchConfig` model with only the `psi_step` and `theta_step` attributes set to non-default values."
   ]
  },
  {
   "cell_type": "code",
   "execution_count": 7,
   "metadata": {},
   "outputs": [
    {
     "data": {
      "text/plain": [
       "{'psi_step': 4.0,\n",
       " 'theta_step': 4.0,\n",
       " 'phi_min': None,\n",
       " 'phi_max': None,\n",
       " 'theta_min': None,\n",
       " 'theta_max': None,\n",
       " 'psi_min': None,\n",
       " 'psi_max': None,\n",
       " 'base_grid_method': 'uniform',\n",
       " 'symmetry': 'C1'}"
      ]
     },
     "execution_count": 7,
     "metadata": {},
     "output_type": "execute_result"
    }
   ],
   "source": [
    "orientation_search_config = OrientationSearchConfig(\n",
    "    psi_step=4.0,\n",
    "    theta_step=4.0,\n",
    ")\n",
    "\n",
    "# print the model dictionary\n",
    "orientation_search_config.model_dump()"
   ]
  },
  {
   "cell_type": "markdown",
   "metadata": {},
   "source": [
    "## The **DefocusSearchConfig** Model\n",
    "\n",
    "Two-dimensional template matching is also sensitive to the relative defocus of a particle allowing the estimation of the Z-height in a sample.\n",
    "The `DefocusSearchConfig` model handles which defocus planes are searched over (relative to the defocus parameters defined in the `OpticsGroup` model).\n",
    "\n",
    "The model has the following attributes:\n",
    " - `enabled`: A boolean value indicating whether defocus search is enabled. The default value is `True`. If `False`, then only the defocus value defined in the `OpticsGroup` model is used.\n",
    " - `defocus_min`: The minimum relative defocus value (in Angstroms) to search.\n",
    " - `defocus_max`: The maximum relative defocus value (in Angstroms) to search.\n",
    " - `defocus_step`: The increment between searched defocus planes (in Angstroms).\n",
    "\n",
    "These parameters will generate a set of relative defocus planes searched over according to\n",
    "    $$[\\text{f}_\\text{min}, \\text{f}_\\text{min} + \\Delta\\text{f}, + \\text{f}_\\text{min} + 2\\Delta\\text{f}, \\dots, \\text{f}_\\text{max}]$$\n",
    "which is effectively the following range object in Python:\n",
    "```python\n",
    "range(defocus_min, defocus_max + defocus_step, defocus_step)\n",
    "```"
   ]
  },
  {
   "cell_type": "code",
   "execution_count": 8,
   "metadata": {},
   "outputs": [],
   "source": [
    "# Searches defocus between -600 and 600 with a step of 200 Angstroms\n",
    "defocus_search_config = DefocusSearchConfig(\n",
    "    enabled=True, defocus_min=-600, defocus_max=600, defocus_step=200\n",
    ")"
   ]
  },
  {
   "cell_type": "markdown",
   "metadata": {},
   "source": [
    "### The `DefocusSearchConfig.defocus_values` property\n",
    "\n",
    "Once a `DefocusSearchConfig` model is instantiated, there is the helpful `defocus_values` property that returns a list of relative defocus values to search over."
   ]
  },
  {
   "cell_type": "code",
   "execution_count": 9,
   "metadata": {},
   "outputs": [
    {
     "data": {
      "text/plain": [
       "tensor([-600., -400., -200.,    0.,  200.,  400.,  600.])"
      ]
     },
     "execution_count": 9,
     "metadata": {},
     "output_type": "execute_result"
    }
   ],
   "source": [
    "defocus_search_config.defocus_values"
   ]
  },
  {
   "cell_type": "markdown",
   "metadata": {},
   "source": [
    "## Fourier filters in the **PreprocessingFilters** Model\n",
    "\n",
    "Template matching necessitates the use of Fourier filters to preprocess the input image (e.g. spectral whitening).\n",
    "The `PreprocessingFilters` model handles the configuration of the following filter types:\n",
    "  - Spectral whitening under the `whitening_filter` attribute\n",
    "  - Bandpass filtering, with the option for smooth transitions, under the `bandpass_filter` attribute.\n",
    "  - Phase randomization above a certain frequency using the `phase_randomization_filter` attribute.\n",
    "  - Options for a user-defined arbitrary curve filter under the `arbitrary_curve_filter` attribute.\n",
    "\n",
    "Together, all these filter types allow fine control over how an input image is preprocessed before template matching.\n",
    "Each filter type is itself a Pydantic model with its own set of attributes."
   ]
  },
  {
   "cell_type": "markdown",
   "metadata": {},
   "source": [
    "### **WhiteningFilterConfig**\n",
    "\n",
    "The `WhiteningFilterConfig` model handles the configuration of the spectral whitening filter.\n",
    "When applied the image, the power spectral density should become flat and the noise distribution is white (i.e. uncorrelated).\n",
    "\n",
    "The whitening filter is *enabled* by default and has the following attributes:\n",
    "  - `enabled`: A boolean value indicating whether the whitening filter is enabled.\n",
    "  - `num_freq_bins`: An optional integer specifying the number of frequency bins used when calculating the power spectral density. This parameter is automatically calculated based on the input image size if not provided.\n",
    "  - `max_freq`: An optional float specifying the maximum spatial frequency (in terms of Nyquist) to use when calculating the whitening filter. Frequencies above this value are set to `1.0`, that is, unscaled. The default value is `0.5` which corresponds to the Nyquist frequency.\n",
    "  - `do_power_spectrum`: Boolean indicating weather the whitening filter should be calculated over the power spectrum *or* amplitude spectrum. The default value is `True` and the power spectrum is used.\n",
    "\n",
    "Below, we create a default instance of the `WhiteningFilterConfig` model."
   ]
  },
  {
   "cell_type": "code",
   "execution_count": 10,
   "metadata": {},
   "outputs": [],
   "source": [
    "whitening_filter_config = WhiteningFilterConfig()"
   ]
  },
  {
   "cell_type": "markdown",
   "metadata": {},
   "source": [
    "### **BandpassFilterConfig**\n",
    "\n",
    "The `BandpassFilterConfig` model handles the configuration of the bandpass filter.\n",
    "\n",
    "The bandpass filter is *disabled* by default and has the following attributes:\n",
    "  - `enabled`: A boolean value indicating whether the bandpass filter is enabled. \n",
    "  - `low_freq_cutoff`: The low-pass cutoff frequency (in terms of Nyquist) for the bandpass filter.\n",
    "  - `high_freq_cutoff`: The high-pass cutoff frequency (in terms of Nyquist) for the bandpass filter.\n",
    "  - `falloff`: The falloff factor (using a cosine function) for the bandpass filter. A value of `0.0` (default) corresponds to a hard cutoff with values in the range `(0.0, 0.1)` providing a smooth, but distinct, transition.\n",
    "\n",
    "When disabled, the bandpass filter is not applied to the input image.\n",
    "Nonetheless, we create a default instance of the `BandpassFilterConfig` model below."
   ]
  },
  {
   "cell_type": "code",
   "execution_count": 11,
   "metadata": {},
   "outputs": [],
   "source": [
    "bandpass_filter_config = BandpassFilterConfig()"
   ]
  },
  {
   "cell_type": "markdown",
   "metadata": {},
   "source": [
    "### **PhaseRandomizationFilterConfig**\n",
    "\n",
    "The `PhaseRandomizationFilterConfig` model hold parameters defining a phase randomization filter.\n",
    "This filter keeps the amplitudes of Fourier components above a certain frequency the same, but randomizes their phases. This is useful for testing the robustness of template matching algorithms to noise.\n",
    "\n",
    "The model is *disabled* by default has the following attributes:\n",
    "  - `enabled`: A boolean value indicating whether the phase randomization filter is enabled.\n",
    "  - `cuton`: The cuton frequency (in terms of Nyquist) for the phase randomization filter. Frequencies above this value are randomized.\n",
    "\n",
    "Below, we create a default instance of the `PhaseRandomizationFilterConfig` model."
   ]
  },
  {
   "cell_type": "code",
   "execution_count": 12,
   "metadata": {},
   "outputs": [],
   "source": [
    "phase_randomization_filter = PhaseRandomizationFilterConfig()"
   ]
  },
  {
   "cell_type": "markdown",
   "metadata": {},
   "source": [
    "### **ArbitraryCurveFilterConfig**\n",
    "\n",
    "We also provide a model for defining an arbitrary curve filter for preprocessing.\n",
    "This filter takes a set of spatial frequency values (in terms of Nyquist) and filter amplitudes at those frequencies to create a custom filter.\n",
    "Utilizing this filter allows for fine-grained control over how spatial frequencies should be weighted within the template matching package itself.\n",
    "\n",
    "The model is *disabled* by default has the following attributes:\n",
    " - `enabled`: A boolean value indicating whether the arbitrary curve filter is enabled.\n",
    " - `frequencies`: 1-dimensional list of floats representing the spatial frequencies (in terms of Nyquist). The list must be sorted in ascending order.\n",
    " - `amplitudes`: 1-dimensional list of floats representing the filter amplitudes at the corresponding frequencies. The list must be the same length as `frequencies`.\n",
    "\n",
    "Below, we create a default instance of the `ArbitraryCurveFilterConfig` mode; it is disabled and has no frequencies or amplitudes set."
   ]
  },
  {
   "cell_type": "code",
   "execution_count": 13,
   "metadata": {},
   "outputs": [],
   "source": [
    "arbitrary_curve_filter = ArbitraryCurveFilterConfig()"
   ]
  },
  {
   "cell_type": "markdown",
   "metadata": {},
   "source": [
    "### Putting the filters together in the **PreprocessingFilters** Model\n",
    "\n",
    "We now construct the `PreprocessingFilters` model with the instances of the four filter models we created above."
   ]
  },
  {
   "cell_type": "code",
   "execution_count": 14,
   "metadata": {},
   "outputs": [],
   "source": [
    "preprocessing_filters = PreprocessingFilters(\n",
    "    whitening_filter=whitening_filter_config,\n",
    "    bandpass_filter=bandpass_filter_config,\n",
    "    phase_randomization_filter=phase_randomization_filter,\n",
    "    arbitrary_curve_filter=arbitrary_curve_filter,\n",
    ")"
   ]
  },
  {
   "cell_type": "markdown",
   "metadata": {},
   "source": [
    "## **ComputationalConfig**\n",
    "\n",
    "The `ComputationalConfig` model currently only handles the GPU ids to use for template matching.\n",
    "The model has the following attributes:\n",
    " - `gpu_ids`: A list of integers representing the GPU ids to use for template matching. The default value is `[0]` which corresponds to the first GPU.\n",
    "\n",
    "Below, we create a new instance of the `ComputationalConfig` model with the default GPU id list."
   ]
  },
  {
   "cell_type": "code",
   "execution_count": 15,
   "metadata": {},
   "outputs": [
    {
     "data": {
      "text/plain": [
       "ComputationalConfig(gpu_ids=[0], num_cpus=1)"
      ]
     },
     "execution_count": 15,
     "metadata": {},
     "output_type": "execute_result"
    }
   ],
   "source": [
    "comp_config = ComputationalConfig()\n",
    "comp_config"
   ]
  },
  {
   "cell_type": "markdown",
   "metadata": {},
   "source": [
    "## Specifying result output with the **MatchTemplateResult** Model\n",
    "\n",
    "We almost have a complete set of configurations for the `match-template` program, but we still need to specify where to save results after the program completes.\n",
    "The `MatchTemplateResult` model handles this by specifying output file paths.\n",
    "The model also has handy class methods for analyzing results and picking particles, but this is discussed elsewhere in the documentation.\n",
    "\n",
    "### User-definable attributes\n",
    "\n",
    "The model has the following user-definable attributes:\n",
    "  - `allow_file_overwrite`: A boolean value indicating whether the program should be allowed to overwrite existing files. The default value is `False` and will raise an error if a file already exists.\n",
    "  - `mip_path`: The path to save the maximum intensity projection (MIP) image.\n",
    "  - `scaled_mip_path`: The path to save the scaled MIP (a.k.a z-score or SNR) image.\n",
    "  - `correlation_average_path`: The path to save the average correlation value per pixel.\n",
    "  - `correlation_variance_path`: The path to save the variance of the correlation value per pixel.\n",
    "  - `orientation_psi_path`: The path to save the best $\\psi$ Euler angle map.\n",
    "  - `orientation_theta_path`: The path to save the best $\\theta$ Euler angle map.\n",
    "  - `orientation_phi_path`: The path to save the best $\\phi$ Euler angle map.\n",
    "  - `relative_defocus_path`: The path to save the best relative defocus map.\n",
    "\n",
    "### Attributes updated after template matching\n",
    "\n",
    "There are additional attributes in the model which automatically get updated after template matching is complete:\n",
    "  - `total_projections`: The total number of projections \\(\\text{orientations} \\times \\text{defocus planes}\\) searched over.\n",
    "  - `total_orientations`: The total number of orientations searched over.\n",
    "  - `total_defocus`: The total number of defocus planes searched over.\n",
    "\n",
    "### Creating an instance of the **MatchTemplateResult** model\n",
    "\n",
    "Below, we specify the necessary output paths for the `MatchTemplateResult` model.\n",
    "Note that this configuration will output the images into thee current working directory.\n",
    "You will need to update these paths to whatever is appropriate for your system."
   ]
  },
  {
   "cell_type": "code",
   "execution_count": 16,
   "metadata": {},
   "outputs": [],
   "source": [
    "match_template_result = MatchTemplateResult(\n",
    "    allow_file_overwrite=True,\n",
    "    mip_path=\"./output_mip.mrc\",\n",
    "    scaled_mip_path=\"./output_scaled_mip.mrc\",\n",
    "    correlation_average_path=\"./output_correlation_average.mrc\",\n",
    "    correlation_variance_path=\"./output_correlation_variance.mrc\",\n",
    "    orientation_psi_path=\"./output_orientation_psi.mrc\",\n",
    "    orientation_theta_path=\"./output_orientation_theta.mrc\",\n",
    "    orientation_phi_path=\"./output_orientation_phi.mrc\",\n",
    "    relative_defocus_path=\"./output_relative_defocus.mrc\",\n",
    ")"
   ]
  },
  {
   "cell_type": "markdown",
   "metadata": {},
   "source": [
    "## Root **MatchTemplateConfig** Model\n",
    "\n",
    "Finally, we have all the components which go into the root `MatchTemplateConfig` model.\n",
    "This model is the top-level configuration object that contains all the other models as attributes along with `micrograph_path` and `template_volume_path` which point to the input micrograph and simulated reference template volume, respectfully.\n",
    "\n",
    "Below, we create our instance of the `MatchTemplateConfig` model.\n",
    "Note that you will need to supply the paths to the micrograph and template volume on your system; dummy paths are provided here so the code runs without error.\n"
   ]
  },
  {
   "cell_type": "code",
   "execution_count": 17,
   "metadata": {},
   "outputs": [],
   "source": [
    "match_template_manager = MatchTemplateManager(\n",
    "    micrograph_path=\"./dummy_micrograph.mrc\",\n",
    "    template_volume_path=\"./dummy_template_volume.mrc\",\n",
    "    optics_group=my_optics_group,\n",
    "    defocus_search_config=defocus_search_config,\n",
    "    orientation_search_config=orientation_search_config,\n",
    "    preprocessing_filters=preprocessing_filters,\n",
    "    match_template_result=match_template_result,\n",
    "    computational_config=comp_config,\n",
    "    preload_mrc_files=False,  # Don't try to read the MRC upon initialization\n",
    ")"
   ]
  },
  {
   "cell_type": "markdown",
   "metadata": {},
   "source": [
    "### Serializing the **MatchTemplateConfig** model\n",
    "\n",
    "Like discussed before, we can serialize and read the `MatchTemplateConfig` model to/from a YAML file.\n",
    "Below, we write the model to a file called `match_template_example.yaml`."
   ]
  },
  {
   "cell_type": "code",
   "execution_count": 18,
   "metadata": {},
   "outputs": [],
   "source": [
    "match_template_manager.to_yaml(\"./match_template_manager_example.yaml\")"
   ]
  },
  {
   "cell_type": "markdown",
   "metadata": {},
   "source": [
    "### Importing the **MatchTemplateConfig** model from a YAML file\n",
    "\n",
    "Now, we re-import the configuration into a new model and check that they are the same.\n"
   ]
  },
  {
   "cell_type": "code",
   "execution_count": 19,
   "metadata": {},
   "outputs": [
    {
     "name": "stdout",
     "output_type": "stream",
     "text": [
      "MatchTemplateManager objects are equal.\n"
     ]
    }
   ],
   "source": [
    "new_match_template_manager = MatchTemplateManager.from_yaml(\n",
    "    \"./match_template_manager_example.yaml\"\n",
    ")\n",
    "\n",
    "if new_match_template_manager == match_template_manager:\n",
    "    print(\"MatchTemplateManager objects are equal.\")\n",
    "else:\n",
    "    print(\"The two MatchTemplateManager are not equal!!!\")"
   ]
  },
  {
   "cell_type": "markdown",
   "metadata": {},
   "source": [
    "## Conclusion\n",
    "\n",
    "We have now covered the creation, serialization, and deserialization of all the configuration models necessary for the `match-template` program.\n",
    "This script will create the `match_template_example.yaml` file in the current working directory whose file contents should match what is listed below.\n",
    "Modifying this file and using it as input to the `match-template` program will allow you to run the program with the specified configurations.\n",
    "Note that a default YAML configuration can also be found in the GitHub page.\n",
    "\n",
    "----\n",
    "\n",
    "```yaml\n",
    "computational_config:\n",
    "  gpu_ids:\n",
    "  - 0\n",
    "  num_cpus: 1\n",
    "defocus_search_config:\n",
    "  defocus_max: 600.0\n",
    "  defocus_min: -600.0\n",
    "  defocus_step: 200.0\n",
    "  enabled: true\n",
    "match_template_result:\n",
    "  allow_file_overwrite: true\n",
    "  correlation_average_path: ./output_correlation_average.mrc\n",
    "  correlation_variance_path: ./output_correlation_variance.mrc\n",
    "  mip_path: ./output_mip.mrc\n",
    "  orientation_phi_path: ./output_orientation_phi.mrc\n",
    "  orientation_psi_path: ./output_orientation_psi.mrc\n",
    "  orientation_theta_path: ./output_orientation_theta.mrc\n",
    "  relative_defocus_path: ./output_relative_defocus.mrc\n",
    "  scaled_mip_path: ./output_scaled_mip.mrc\n",
    "  total_defocus: 0\n",
    "  total_orientations: 0\n",
    "  total_projections: 0\n",
    "micrograph_path: ./dummy_micrograph.mrc\n",
    "optics_group:\n",
    "  amplitude_contrast_ratio: 0.07\n",
    "  beam_tilt_x: null\n",
    "  beam_tilt_y: null\n",
    "  chromatic_aberration: 0.0\n",
    "  ctf_B_factor: 60.0\n",
    "  astigmatism_angle: 25.0\n",
    "  defocus_u: 5200.0\n",
    "  defocus_v: 4950.0\n",
    "  even_zernike: null\n",
    "  label: my_optics_group\n",
    "  mtf_reference: null\n",
    "  mtf_values: null\n",
    "  odd_zernike: null\n",
    "  phase_shift: 0.0\n",
    "  pixel_size: 1.06\n",
    "  spherical_aberration: 2.7\n",
    "  voltage: 300.0\n",
    "  zernike_moments: null\n",
    "orientation_search_config:\n",
    "  base_grid_method: uniform\n",
    "  psi_step: 4.0\n",
    "  theta_step: 4.0\n",
    "  phi_max: 360.0\n",
    "  phi_min: 0.0\n",
    "  psi_max: 360.0\n",
    "  psi_min: 0.0\n",
    "  theta_max: 180.0\n",
    "  theta_min: 0.0\n",
    "preprocessing_filters:\n",
    "  arbitrary_curve_filter:\n",
    "    amplitudes: null\n",
    "    enabled: false\n",
    "    frequencies: null\n",
    "  bandpass_filter:\n",
    "    enabled: false\n",
    "    falloff: null\n",
    "    high_freq_cutoff: null\n",
    "    low_freq_cutoff: null\n",
    "  phase_randomization_filter:\n",
    "    cuton: null\n",
    "    enabled: false\n",
    "  whitening_filter:\n",
    "    do_power_spectrum: true\n",
    "    enabled: true\n",
    "    max_freq: 0.5\n",
    "    num_freq_bins: null\n",
    "template_volume_path: ./dummy_template_volume.mrc\n",
    "```\n",
    "\n",
    "----\n"
   ]
  }
 ],
 "metadata": {
  "jupytext": {
   "formats": "ipynb,py:percent"
  },
  "kernelspec": {
   "display_name": "leo-em-dev",
   "language": "python",
   "name": "python3"
  },
  "language_info": {
   "codemirror_mode": {
    "name": "ipython",
    "version": 3
   },
   "file_extension": ".py",
   "mimetype": "text/x-python",
   "name": "python",
   "nbconvert_exporter": "python",
   "pygments_lexer": "ipython3",
   "version": "3.12.9"
  }
 },
 "nbformat": 4,
 "nbformat_minor": 2
}
